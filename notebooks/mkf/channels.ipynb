{
 "metadata": {
  "language_info": {
   "codemirror_mode": {
    "name": "ipython",
    "version": 3
   },
   "file_extension": ".py",
   "mimetype": "text/x-python",
   "name": "python",
   "nbconvert_exporter": "python",
   "pygments_lexer": "ipython3",
   "version": "3.8.2-final"
  },
  "orig_nbformat": 2,
  "kernelspec": {
   "name": "python3",
   "display_name": "Python 3.8.2 64-bit ('virtualenv')",
   "metadata": {
    "interpreter": {
     "hash": "aeb68a19f2990a492419b0cc573610dbf5a76e2bd340e7caff912748e2aea224"
    }
   }
  }
 },
 "nbformat": 4,
 "nbformat_minor": 2,
 "cells": [
  {
   "source": [
    "# Análise top 100 canais infantis (made for kids) do Youtube"
   ],
   "cell_type": "markdown",
   "metadata": {}
  },
  {
   "source": [
    "## Leitura dos arquivos"
   ],
   "cell_type": "markdown",
   "metadata": {}
  },
  {
   "cell_type": "code",
   "execution_count": 1,
   "metadata": {},
   "outputs": [],
   "source": [
    "import json\n",
    "import glob\n",
    "import pandas as pd\n",
    "from pandas.io.json import json_normalize  "
   ]
  },
  {
   "cell_type": "code",
   "execution_count": 2,
   "metadata": {
    "tags": []
   },
   "outputs": [],
   "source": [
    "channels = []\n",
    "\n",
    "files = glob.glob(\"/Users/guilherme.simoes/Documents/master-projects/videos-mfk/data/mkf/channels/*\")\n",
    "\n",
    "for f in files:\n",
    "    with open(f) as file:\n",
    "        channel_json = json.load(file)['items'][0]\n",
    "        channels.append(channel_json)\n",
    "\n",
    "# Transform JSON list in a Pandas Dataframe\n",
    "df = json_normalize(channels)"
   ]
  },
  {
   "source": [
    "## Análises"
   ],
   "cell_type": "markdown",
   "metadata": {}
  },
  {
   "source": [
    "## Caracterização dos canais"
   ],
   "cell_type": "markdown",
   "metadata": {}
  },
  {
   "source": [
    "#### Canais por país "
   ],
   "cell_type": "markdown",
   "metadata": {}
  },
  {
   "cell_type": "code",
   "execution_count": 7,
   "metadata": {},
   "outputs": [
    {
     "output_type": "execute_result",
     "data": {
      "text/plain": [
       "snippet.country\n",
       "US    50\n",
       "BR     5\n",
       "IN     5\n",
       "MX     5\n",
       "RU     5\n",
       "AU     3\n",
       "GB     3\n",
       "ID     3\n",
       "VN     3\n",
       "AR     2\n",
       "CO     1\n",
       "DE     1\n",
       "JP     1\n",
       "TR     1\n",
       "Name: id, dtype: int64"
      ]
     },
     "metadata": {},
     "execution_count": 7
    }
   ],
   "source": [
    "df.groupby(['snippet.country']).count()['id'].sort_values(ascending=False)"
   ]
  },
  {
   "source": [
    "#### Total de países"
   ],
   "cell_type": "markdown",
   "metadata": {}
  },
  {
   "cell_type": "code",
   "execution_count": 4,
   "metadata": {},
   "outputs": [
    {
     "output_type": "execute_result",
     "data": {
      "text/plain": [
       "88"
      ]
     },
     "metadata": {},
     "execution_count": 4
    }
   ],
   "source": [
    "df['snippet.country'].count()"
   ]
  },
  {
   "source": [
    "#### Idioma padrão (definido pelo canal)"
   ],
   "cell_type": "markdown",
   "metadata": {}
  },
  {
   "cell_type": "code",
   "execution_count": 8,
   "metadata": {},
   "outputs": [
    {
     "output_type": "execute_result",
     "data": {
      "text/plain": [
       "snippet.defaultLanguage\n",
       "ru        4\n",
       "en        3\n",
       "ko        2\n",
       "es-419    1\n",
       "ja        1\n",
       "Name: id, dtype: int64"
      ]
     },
     "metadata": {},
     "execution_count": 8
    }
   ],
   "source": [
    "df.groupby(['snippet.defaultLanguage']).count()['id'].sort_values(ascending=False)"
   ]
  },
  {
   "cell_type": "code",
   "execution_count": null,
   "metadata": {},
   "outputs": [],
   "source": []
  }
 ]
}